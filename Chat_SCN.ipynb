{
 "cells": [
  {
   "cell_type": "code",
   "execution_count": null,
   "id": "5272b3b5",
   "metadata": {},
   "outputs": [
    {
     "name": "stdout",
     "output_type": "stream",
     "text": [
      "Por favor, introduce tu pregunta (o 'salir' para terminar): Que son las cuentas nacionales?\n",
      "Respuesta: Las cuentas nacionales son un sistema de cuentas macroeconómicas que proporciona una visión general de la economía de un país. Miden la producción, el consumo, la inversión, las exportaciones e importaciones de bienes y servicios, así como las transacciones del gobierno y las empresas.\n",
      "\n",
      "Las cuentas nacionales se compilan utilizando una metodología estándar que se ha desarrollado por el Fondo Monetario Internacional (FMI). Esta metodología se basa en el principio de que la economía de un país es un sistema cerrado, lo que significa que la producción total de bienes y servicios debe ser igual a la demanda total de bienes y servicios.\n",
      "\n",
      "Las cuentas nacionales se utilizan para una variedad de propósitos, incluyendo:\n",
      "\n",
      "* Medir el crecimiento económico\n",
      "* Evaluar la estabilidad económica\n",
      "* Analizar la distribución del ingreso\n",
      "* Formular políticas económicas\n",
      "\n",
      "Las cuentas nacionales son una herramienta esencial para los gobiernos, las empresas y los ciudadanos para entender la economía y tomar decisiones informadas.\n",
      "\n",
      "Aquí hay algunos ejemplos de cómo se utilizan las cuentas nacionales:\n",
      "\n",
      "* El gobierno utiliza las cuentas nacionales para medir el crecimiento económico y evaluar la estabilidad económica. Esta información se utiliza para tomar decisiones sobre la política fiscal y monetaria.\n",
      "* Las empresas utilizan las cuentas nacionales para analizar la demanda de sus productos y servicios. Esta información se utiliza para tomar decisiones sobre la inversión y la producción.\n",
      "* Los ciudadanos utilizan las cuentas nacionales para entender la economía y tomar decisiones sobre su propio consumo e inversión.\n",
      "\n",
      "Las cuentas nacionales son una herramienta valiosa para todos los que quieren entender la economía y tomar decisiones informadas.\n"
     ]
    }
   ],
   "source": [
    "import pdfplumber\n",
    "import requests\n",
    "import tempfile\n",
    "from bardapi import Bard\n",
    "\n",
    "token = 'YwghQNanyBlgTekk1OEH59ynvHhXZ66ZKN09CYIjNkSephTnzaSfg0U8d0seKhvee0L_Hg.'\n",
    "bard = Bard(token=token)\n",
    "\n",
    "# Load the PDF from URL\n",
    "pdf_url = \"https://www.cepal.org/sites/default/files/document/files/sna2008_web.pdf\"\n",
    "response = requests.get(pdf_url)\n",
    "pdf_content = \"\"\n",
    "\n",
    "with tempfile.NamedTemporaryFile(suffix=\".pdf\") as temp_pdf:\n",
    "    temp_pdf.write(response.content)\n",
    "    temp_pdf.flush()\n",
    "\n",
    "    with pdfplumber.open(temp_pdf.name) as pdf:\n",
    "        for page in pdf.pages:\n",
    "            pdf_content += page.extract_text()\n",
    "\n",
    "while True:\n",
    "    question = input(\"Por favor, introduce tu pregunta (o 'salir' para terminar): \")\n",
    "    if question.lower() == 'salir':\n",
    "        break\n",
    "\n",
    "    try:\n",
    "        answer = bard.get_answer(question)['content']\n",
    "        print(f\"Respuesta: {answer}\")\n",
    "    except Exception as e:\n",
    "        print(f\"Error al obtener la respuesta de la API: {e}\")\n",
    "\n"
   ]
  },
  {
   "cell_type": "code",
   "execution_count": null,
   "id": "4a868c0b",
   "metadata": {},
   "outputs": [],
   "source": []
  }
 ],
 "metadata": {
  "kernelspec": {
   "display_name": "Python 3 (ipykernel)",
   "language": "python",
   "name": "python3"
  },
  "language_info": {
   "codemirror_mode": {
    "name": "ipython",
    "version": 3
   },
   "file_extension": ".py",
   "mimetype": "text/x-python",
   "name": "python",
   "nbconvert_exporter": "python",
   "pygments_lexer": "ipython3",
   "version": "3.10.12"
  }
 },
 "nbformat": 4,
 "nbformat_minor": 5
}
